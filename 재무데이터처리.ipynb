{
 "cells": [
  {
   "cell_type": "markdown",
   "metadata": {},
   "source": [
    "## 재무 데이터 핸들링"
   ]
  },
  {
   "cell_type": "code",
   "execution_count": 3,
   "metadata": {
    "scrolled": false
   },
   "outputs": [
    {
     "name": "stdout",
     "output_type": "stream",
     "text": [
      "       Symbol  Name  결산월           총자산           총부채           총자본  \\\n",
      "회계연도                                                                 \n",
      "2007  A005930  삼성전자   12  9.337514e+10  3.740323e+10  5.597191e+10   \n",
      "2008  A005930  삼성전자   12  1.053006e+11  4.237670e+10  6.292395e+10   \n",
      "2009  A005930  삼성전자   12  1.121798e+11  3.913459e+10  7.304520e+10   \n",
      "2010  A005930  삼성전자   12  1.342887e+11  4.493965e+10  8.934909e+10   \n",
      "2011  A005930  삼성전자   12  1.558003e+11  5.448663e+10  1.013136e+11   \n",
      "2012  A005930  삼성전자   12  1.810716e+11  5.959136e+10  1.214802e+11   \n",
      "2013  A005930  삼성전자   12  2.140750e+11  6.405901e+10  1.500160e+11   \n",
      "2014  A005930  삼성전자   12  2.304230e+11  6.233477e+10  1.680882e+11   \n",
      "2015  A005930  삼성전자   12  2.421795e+11  6.311972e+10  1.790598e+11   \n",
      "2016  A005930  삼성전자   12  2.621743e+11  6.921129e+10  1.929630e+11   \n",
      "2017  A005930  삼성전자   12  3.017521e+11  8.726066e+10  2.144914e+11   \n",
      "2018  A005930  삼성전자   12  3.393572e+11  9.160407e+10  2.477532e+11   \n",
      "2019  A005930  삼성전자   12  3.525645e+11  8.968408e+10  2.628804e+11   \n",
      "2020  A005930  삼성전자   12  3.782357e+11  1.022877e+11  2.759480e+11   \n",
      "2021  A005930  삼성전자   12  4.266212e+11  1.217212e+11  3.048999e+11   \n",
      "2022  A005930  삼성전자   12  4.484245e+11  9.367490e+10  3.547496e+11   \n",
      "\n",
      "               매출액          영업이익         당기순이익          현금흐름      EPS  \\\n",
      "회계연도                                                                    \n",
      "2007  9.850782e+10  8.973286e+09  7.922981e+09  1.591811e+10   872.33   \n",
      "2008  1.212943e+11  6.031863e+09  5.890214e+09  1.562110e+10   649.60   \n",
      "2009  1.363237e+11  1.098001e+10  9.760550e+09  2.070933e+10  1125.19   \n",
      "2010  1.546303e+11  1.662103e+10  1.614652e+10  2.719293e+10  1857.26   \n",
      "2011  1.650018e+11  1.564429e+10  1.375904e+10  2.697471e+10  1573.20   \n",
      "2012  2.011036e+11  2.904934e+10  2.384528e+10  3.880739e+10  2725.56   \n",
      "2013  2.286927e+11  3.678501e+10  3.047476e+10  4.626663e+10  3505.64   \n",
      "2014  2.062060e+11  2.502507e+10  2.339436e+10  4.113592e+10  2713.47   \n",
      "2015  2.006535e+11  2.641344e+10  1.906014e+10  3.962548e+10  2197.65   \n",
      "2016  2.018667e+11  2.924067e+10  2.272609e+10  4.312862e+10  2735.21   \n",
      "2017  2.395754e+11  5.364504e+10  4.218675e+10  6.346196e+10  5421.23   \n",
      "2018  2.437714e+11  5.888667e+10  4.434486e+10  7.037291e+10  6024.16   \n",
      "2019  2.304009e+11  2.776851e+10  2.173886e+10  5.110269e+10  3165.92   \n",
      "2020  2.368070e+11  3.599388e+10  2.640783e+10  5.642646e+10  3841.03   \n",
      "2021  2.796048e+11  5.163386e+10  3.990745e+10  7.349115e+10  5777.37   \n",
      "2022  3.022314e+11  4.337663e+10  5.565408e+10  9.383768e+10  8057.22   \n",
      "\n",
      "           BPS       SPS      CFPS  \n",
      "회계연도                                \n",
      "2007   7150.08  11580.11   1871.26  \n",
      "2008   7879.39  14258.78   1836.34  \n",
      "2009   9165.76  16025.56   2434.49  \n",
      "2010  10973.96  18177.61   3196.67  \n",
      "2011  12299.80  19396.82   3171.02  \n",
      "2012  14629.16  23640.79   4562.01  \n",
      "2013  17840.90  26884.02   5438.89  \n",
      "2014  20056.22  24240.60   4835.74  \n",
      "2015  21902.79  23587.87   4658.18  \n",
      "2016  24340.38  24632.24   5262.65  \n",
      "2017  28970.88  31413.87   8321.33  \n",
      "2018  35342.36  33458.38   9658.90  \n",
      "2019  37528.03  33919.05   7523.21  \n",
      "2020  39405.77  34862.14   8306.96  \n",
      "2021  43611.38  41162.73  10819.19  \n",
      "2022  50817.45  44493.75  13814.55  \n"
     ]
    }
   ],
   "source": [
    "\n",
    "\n",
    "\n",
    "import pandas as pd\n",
    "import numpy as np\n",
    "import seaborn as sns\n",
    "import matplotlib.pyplot as plt\n",
    "from matplotlib import font_manager, rc\n",
    "\n",
    "import os\n",
    "\n",
    "from dateutil.relativedelta import relativedelta\n",
    "\n",
    "plt.style.use('seaborn')\n",
    "\n",
    "FONT_NAME = font_manager.FontProperties(fname=\"c:/Windows/Fonts/malgun.ttf\").get_name()\n",
    "rc('font', family=FONT_NAME)\n",
    "\n",
    "\n",
    "# print(os.getcwd())\n",
    "\n",
    "folder_dir = 'C:/data\\실습데이터'\n",
    "DATA_FILE = \"KRX300_FIN_DATA_2023.xlsx\"\n",
    "\n",
    "data_wb = pd.ExcelFile(folder_dir + \"/\" + DATA_FILE)\n",
    "\n",
    "find_ts = data_wb.parse(\"재무\", index_col=3)  # 인덱스는 연도\n",
    "\n",
    "print(find_ts.head(16))\n"
   ]
  },
  {
   "cell_type": "markdown",
   "metadata": {},
   "source": [
    "1.복수 재무지표 순위"
   ]
  },
  {
   "cell_type": "code",
   "execution_count": 19,
   "metadata": {
    "scrolled": true
   },
   "outputs": [
    {
     "name": "stdout",
     "output_type": "stream",
     "text": [
      "      Name       총자산       총부채       총자본       매출액      영업이익     당기순이익  \\\n",
      "회계연도                                                                     \n",
      "2007  삼성전자       NaN       NaN       NaN       NaN       NaN       NaN   \n",
      "2008  삼성전자  0.127716  0.132969  0.124206  0.231317 -0.327798 -0.256566   \n",
      "2009  삼성전자  0.065329 -0.076507  0.160849  0.123908  0.820335  0.657079   \n",
      "2010  삼성전자  0.197085  0.148336  0.223203  0.134288  0.513754  0.654264   \n",
      "2011  삼성전자  0.160189  0.212440  0.133908  0.067073 -0.058765 -0.147864   \n",
      "\n",
      "          현금흐름       EPS       BPS       SPS      CFPS  \n",
      "회계연도                                                    \n",
      "2007       NaN       NaN       NaN       NaN       NaN  \n",
      "2008 -0.018659 -0.255328  0.102000  0.231316 -0.018661  \n",
      "2009  0.325729  0.732127  0.163258  0.123908  0.325729  \n",
      "2010  0.313076  0.650619  0.197278  0.134289  0.313076  \n",
      "2011 -0.008025 -0.152946  0.120817  0.067072 -0.008024  \n"
     ]
    }
   ],
   "source": [
    "ror=find_ts.iloc[:,3:]/find_ts.iloc[:,3:].shift(1)-1    # 전년비 증감률\n",
    "\n",
    "Name=find_ts['Name']\n",
    "\n",
    "ror = pd.concat([Name,ror],axis=1)\n",
    "\n",
    "print(ror.head(5))\n",
    "\n"
   ]
  },
  {
   "cell_type": "code",
   "execution_count": 20,
   "metadata": {},
   "outputs": [
    {
     "name": "stdout",
     "output_type": "stream",
     "text": [
      "회계연도\n",
      "2007         NaN\n",
      "2008    0.231317\n",
      "2009    0.123908\n",
      "2010    0.134288\n",
      "2011    0.067073\n",
      "          ...   \n",
      "2018    0.110818\n",
      "2019    0.059197\n",
      "2020    0.100146\n",
      "2021    0.298940\n",
      "2022    0.675472\n",
      "Name: 매출액, Length: 4784, dtype: float64\n"
     ]
    }
   ],
   "source": [
    "print (ror['매출액'])"
   ]
  },
  {
   "cell_type": "code",
   "execution_count": 21,
   "metadata": {},
   "outputs": [
    {
     "data": {
      "text/plain": [
       "<AxesSubplot:xlabel='회계연도'>"
      ]
     },
     "execution_count": 21,
     "metadata": {},
     "output_type": "execute_result"
    },
    {
     "name": "stderr",
     "output_type": "stream",
     "text": [
      "C:\\ProgramData\\Anaconda3\\lib\\site-packages\\IPython\\core\\pylabtools.py:151: UserWarning: Glyph 8722 (\\N{MINUS SIGN}) missing from current font.\n",
      "  fig.canvas.print_figure(bytes_io, **kw)\n"
     ]
    },
    {
     "data": {
      "image/png": "[encoded data removed]",
      "text/plain": [
       "<Figure size 576x396 with 1 Axes>"
      ]
     },
     "metadata": {},
     "output_type": "display_data"
    }
   ],
   "source": [
    "#  삼성전자 EPS 연간 상승률\n",
    "\n",
    "EPS= ror[ror['Name']=='삼성전자']['매출액'][:-1]    \n",
    "\n",
    "EPS.plot()"
   ]
  },
  {
   "cell_type": "code",
   "execution_count": 43,
   "metadata": {},
   "outputs": [
    {
     "name": "stdout",
     "output_type": "stream",
     "text": [
      "        Name       총자산       총부채       총자본       매출액       영업이익       당기순이익  \\\n",
      "회계연도                                                                          \n",
      "2020    삼성전자  0.072813  0.140534  0.049709  0.027804   0.296212    0.214775   \n",
      "2021    삼성전자  0.127924  0.189989  0.104918  0.180729   0.434518    0.511198   \n",
      "2022    삼성전자  0.051107 -0.230414  0.163495  0.080923  -0.159919    0.394579   \n",
      "2020  SK하이닉스  0.090815  0.112768  0.082886  0.181903   0.843433    1.368705   \n",
      "2021  SK하이닉스  0.353679  0.772951  0.198076  0.347876   1.475817    1.020669   \n",
      "...      ...       ...       ...       ...       ...        ...         ...   \n",
      "2021     메지온  0.109872  0.123587  0.105330 -0.069159   1.230596   -0.016388   \n",
      "2022     메지온 -0.356382  0.314114 -0.582122  0.152785   0.388969    1.668433   \n",
      "2020   한국비엔씨  0.363387  0.390872  0.341439  0.100146  -0.594162   -1.263690   \n",
      "2021   한국비엔씨  0.992124  1.744069  0.369534  0.298940 -12.852577 -124.762617   \n",
      "2022   한국비엔씨  0.726057 -0.495256  2.752176  0.675472  -0.101267   -0.747305   \n",
      "\n",
      "           현금흐름         EPS       BPS       SPS       CFPS  \n",
      "회계연도                                                        \n",
      "2020   0.104178    0.213243  0.050036  0.027804   0.104178  \n",
      "2021   0.302424    0.504120  0.106726  0.180729   0.302425  \n",
      "2022   0.276857    0.394617  0.165234  0.080923   0.276856  \n",
      "2020   0.367096    1.370469  0.078673  0.181903   0.367096  \n",
      "2021   0.394550    1.019372  0.184978  0.347876   0.394550  \n",
      "...         ...         ...       ...       ...        ...  \n",
      "2021  -0.030696   -0.034458  0.104299 -0.086256  -0.048518  \n",
      "2022   1.882634    1.663920 -0.582731  0.150830   1.877762  \n",
      "2020  -1.756395   -1.259259  0.232492  0.081714  -1.743756  \n",
      "2021 -53.870180 -122.508905  0.322823  0.275180 -52.902222  \n",
      "2022  -0.771540   -0.787783  1.830229  0.401964  -0.808833  \n",
      "\n",
      "[897 rows x 12 columns]\n"
     ]
    }
   ],
   "source": [
    "# 기간설정 \n",
    "\n",
    "rt=ror[(ror.index >= 2020) & (ror.index <= 2022)]\n",
    "print(rt)\n",
    "\n",
    "# rt.index = pd.to_datetime(rt.index, format = '%Y')\n",
    "# rt.loc['2020':'2022']\n"
   ]
  },
  {
   "cell_type": "code",
   "execution_count": 60,
   "metadata": {},
   "outputs": [
    {
     "data": {
      "text/plain": [
       "<AxesSubplot:xlabel='Name'>"
      ]
     },
     "execution_count": 60,
     "metadata": {},
     "output_type": "execute_result"
    },
    {
     "data": {
      "image/png": "[encoded data removed]",
      "text/plain": [
       "<Figure size 576x396 with 1 Axes>"
      ]
     },
     "metadata": {},
     "output_type": "display_data"
    }
   ],
   "source": [
    "#  특정 연도 선택\n",
    "\n",
    "finy=ror[(ror.index ==2022) ]     \n",
    "\n",
    "fn=finy[(finy['매출액']> 0.3) & (finy['당기순이익']>0.2)][['Name','매출액','당기순이익']]\n",
    "\n",
    "#  증가율로 컬럼명 변경\n",
    "\n",
    "fnn=fn.rename({'매출액': '매출액증가율', '당기순이익': '당기순이익증가율'}, axis=1)        \n",
    "\n",
    "# 랭킹 상위 10위  막대그래프로 그리기\n",
    "\n",
    "ps = fnn.sort_values(ascending=False, by='당기순이익증가율')[:10]    \n",
    "\n",
    "pss=ps.set_index('Name')   # 인덱스 변경 \n",
    "\n",
    "pss['당기순이익증가율'].plot.bar()\n",
    "\n",
    " \n",
    "\n"
   ]
  },
  {
   "cell_type": "code",
   "execution_count": 62,
   "metadata": {},
   "outputs": [
    {
     "data": {
      "text/html": [
       "<div>\n",
       "<style scoped>\n",
       "    .dataframe tbody tr th:only-of-type {\n",
       "        vertical-align: middle;\n",
       "    }\n",
       "\n",
       "    .dataframe tbody tr th {\n",
       "        vertical-align: top;\n",
       "    }\n",
       "\n",
       "    .dataframe thead th {\n",
       "        text-align: right;\n",
       "    }\n",
       "</style>\n",
       "<table border=\"1\" class=\"dataframe\">\n",
       "  <thead>\n",
       "    <tr style=\"text-align: right;\">\n",
       "      <th></th>\n",
       "      <th>Name</th>\n",
       "      <th>매출액</th>\n",
       "      <th>당기순이익</th>\n",
       "      <th>영업이익</th>\n",
       "    </tr>\n",
       "    <tr>\n",
       "      <th>회계연도</th>\n",
       "      <th></th>\n",
       "      <th></th>\n",
       "      <th></th>\n",
       "      <th></th>\n",
       "    </tr>\n",
       "  </thead>\n",
       "  <tbody>\n",
       "    <tr>\n",
       "      <th>2022</th>\n",
       "      <td>화승엔터프라이즈</td>\n",
       "      <td>0.452719</td>\n",
       "      <td>0.100983</td>\n",
       "      <td>6.437725</td>\n",
       "    </tr>\n",
       "    <tr>\n",
       "      <th>2022</th>\n",
       "      <td>에코프로</td>\n",
       "      <td>2.749351</td>\n",
       "      <td>-0.208104</td>\n",
       "      <td>6.134114</td>\n",
       "    </tr>\n",
       "    <tr>\n",
       "      <th>2022</th>\n",
       "      <td>아시아나항공</td>\n",
       "      <td>0.430205</td>\n",
       "      <td>-1.051326</td>\n",
       "      <td>5.424256</td>\n",
       "    </tr>\n",
       "    <tr>\n",
       "      <th>2022</th>\n",
       "      <td>위지윅스튜디오</td>\n",
       "      <td>0.549209</td>\n",
       "      <td>0.488131</td>\n",
       "      <td>5.299607</td>\n",
       "    </tr>\n",
       "    <tr>\n",
       "      <th>2022</th>\n",
       "      <td>자이언트스텝</td>\n",
       "      <td>0.225074</td>\n",
       "      <td>2.651509</td>\n",
       "      <td>5.140746</td>\n",
       "    </tr>\n",
       "    <tr>\n",
       "      <th>2022</th>\n",
       "      <td>엘앤에프</td>\n",
       "      <td>3.004378</td>\n",
       "      <td>-3.414081</td>\n",
       "      <td>5.018253</td>\n",
       "    </tr>\n",
       "    <tr>\n",
       "      <th>2022</th>\n",
       "      <td>한국전력</td>\n",
       "      <td>0.174446</td>\n",
       "      <td>3.683871</td>\n",
       "      <td>4.585420</td>\n",
       "    </tr>\n",
       "    <tr>\n",
       "      <th>2022</th>\n",
       "      <td>SK디스커버리</td>\n",
       "      <td>0.317914</td>\n",
       "      <td>0.961248</td>\n",
       "      <td>3.870864</td>\n",
       "    </tr>\n",
       "    <tr>\n",
       "      <th>2022</th>\n",
       "      <td>SK가스</td>\n",
       "      <td>0.241997</td>\n",
       "      <td>0.031339</td>\n",
       "      <td>2.702468</td>\n",
       "    </tr>\n",
       "    <tr>\n",
       "      <th>2022</th>\n",
       "      <td>에코프로비엠</td>\n",
       "      <td>2.606290</td>\n",
       "      <td>1.788159</td>\n",
       "      <td>2.309333</td>\n",
       "    </tr>\n",
       "  </tbody>\n",
       "</table>\n",
       "</div>"
      ],
      "text/plain": [
       "          Name       매출액     당기순이익      영업이익\n",
       "회계연도                                        \n",
       "2022  화승엔터프라이즈  0.452719  0.100983  6.437725\n",
       "2022      에코프로  2.749351 -0.208104  6.134114\n",
       "2022    아시아나항공  0.430205 -1.051326  5.424256\n",
       "2022   위지윅스튜디오  0.549209  0.488131  5.299607\n",
       "2022    자이언트스텝  0.225074  2.651509  5.140746\n",
       "2022      엘앤에프  3.004378 -3.414081  5.018253\n",
       "2022      한국전력  0.174446  3.683871  4.585420\n",
       "2022   SK디스커버리  0.317914  0.961248  3.870864\n",
       "2022      SK가스  0.241997  0.031339  2.702468\n",
       "2022    에코프로비엠  2.606290  1.788159  2.309333"
      ]
     },
     "execution_count": 62,
     "metadata": {},
     "output_type": "execute_result"
    }
   ],
   "source": [
    "# 특정 재무지표에 따라 순위 매겨  재무지표출력\n",
    "\n",
    "\n",
    "pt = finy.sort_values(ascending=False, by='영업이익')[:10][['Name','매출액','당기순이익','영업이익']] \n",
    "pt"
   ]
  },
  {
   "cell_type": "code",
   "execution_count": 63,
   "metadata": {},
   "outputs": [
    {
     "data": {
      "text/html": [
       "<div>\n",
       "<style scoped>\n",
       "    .dataframe tbody tr th:only-of-type {\n",
       "        vertical-align: middle;\n",
       "    }\n",
       "\n",
       "    .dataframe tbody tr th {\n",
       "        vertical-align: top;\n",
       "    }\n",
       "\n",
       "    .dataframe thead th {\n",
       "        text-align: right;\n",
       "    }\n",
       "</style>\n",
       "<table border=\"1\" class=\"dataframe\">\n",
       "  <thead>\n",
       "    <tr style=\"text-align: right;\">\n",
       "      <th></th>\n",
       "      <th>Name</th>\n",
       "      <th>당기순이익</th>\n",
       "      <th>매출액</th>\n",
       "    </tr>\n",
       "    <tr>\n",
       "      <th>회계연도</th>\n",
       "      <th></th>\n",
       "      <th></th>\n",
       "      <th></th>\n",
       "    </tr>\n",
       "  </thead>\n",
       "  <tbody>\n",
       "    <tr>\n",
       "      <th>2022</th>\n",
       "      <td>HD현대</td>\n",
       "      <td>13.842722</td>\n",
       "      <td>1.146095</td>\n",
       "    </tr>\n",
       "    <tr>\n",
       "      <th>2022</th>\n",
       "      <td>에스티팜</td>\n",
       "      <td>4.186170</td>\n",
       "      <td>0.505184</td>\n",
       "    </tr>\n",
       "    <tr>\n",
       "      <th>2022</th>\n",
       "      <td>SK이노베이션</td>\n",
       "      <td>2.879510</td>\n",
       "      <td>0.665982</td>\n",
       "    </tr>\n",
       "    <tr>\n",
       "      <th>2022</th>\n",
       "      <td>후성</td>\n",
       "      <td>2.594612</td>\n",
       "      <td>0.601452</td>\n",
       "    </tr>\n",
       "    <tr>\n",
       "      <th>2022</th>\n",
       "      <td>대한항공</td>\n",
       "      <td>1.988176</td>\n",
       "      <td>0.563310</td>\n",
       "    </tr>\n",
       "    <tr>\n",
       "      <th>2022</th>\n",
       "      <td>에코프로에이치엔</td>\n",
       "      <td>1.817552</td>\n",
       "      <td>1.400740</td>\n",
       "    </tr>\n",
       "    <tr>\n",
       "      <th>2022</th>\n",
       "      <td>에코프로비엠</td>\n",
       "      <td>1.788159</td>\n",
       "      <td>2.606290</td>\n",
       "    </tr>\n",
       "    <tr>\n",
       "      <th>2022</th>\n",
       "      <td>삼성바이오로직스</td>\n",
       "      <td>1.027636</td>\n",
       "      <td>0.914083</td>\n",
       "    </tr>\n",
       "    <tr>\n",
       "      <th>2022</th>\n",
       "      <td>F&amp;F</td>\n",
       "      <td>0.960763</td>\n",
       "      <td>0.660798</td>\n",
       "    </tr>\n",
       "    <tr>\n",
       "      <th>2022</th>\n",
       "      <td>한국가스공사</td>\n",
       "      <td>0.552072</td>\n",
       "      <td>0.879465</td>\n",
       "    </tr>\n",
       "    <tr>\n",
       "      <th>2022</th>\n",
       "      <td>코스모신소재</td>\n",
       "      <td>0.538853</td>\n",
       "      <td>0.587500</td>\n",
       "    </tr>\n",
       "    <tr>\n",
       "      <th>2022</th>\n",
       "      <td>S-Oil</td>\n",
       "      <td>0.526532</td>\n",
       "      <td>0.545520</td>\n",
       "    </tr>\n",
       "  </tbody>\n",
       "</table>\n",
       "</div>"
      ],
      "text/plain": [
       "          Name      당기순이익       매출액\n",
       "회계연도                               \n",
       "2022      HD현대  13.842722  1.146095\n",
       "2022      에스티팜   4.186170  0.505184\n",
       "2022   SK이노베이션   2.879510  0.665982\n",
       "2022        후성   2.594612  0.601452\n",
       "2022      대한항공   1.988176  0.563310\n",
       "2022  에코프로에이치엔   1.817552  1.400740\n",
       "2022    에코프로비엠   1.788159  2.606290\n",
       "2022  삼성바이오로직스   1.027636  0.914083\n",
       "2022       F&F   0.960763  0.660798\n",
       "2022    한국가스공사   0.552072  0.879465\n",
       "2022    코스모신소재   0.538853  0.587500\n",
       "2022     S-Oil   0.526532  0.545520"
      ]
     },
     "execution_count": 63,
     "metadata": {},
     "output_type": "execute_result"
    }
   ],
   "source": [
    "#  쿼리방식으로 조건 추출  \n",
    "    \n",
    "ff=finy.query('매출액>0.5 & 당기순이익>0.5')[['Name','당기순이익','매출액']]     \n",
    "ff.sort_values(ascending=False, by='당기순이익')\n"
   ]
  },
  {
   "cell_type": "code",
   "execution_count": 67,
   "metadata": {},
   "outputs": [
    {
     "name": "stderr",
     "output_type": "stream",
     "text": [
      "C:\\Users\\jwkim\\AppData\\Local\\Temp\\ipykernel_22204\\485092696.py:1: FutureWarning: Dropping of nuisance columns in rolling operations is deprecated; in a future version this will raise TypeError. Select only valid columns before calling the operation. Dropped columns were Index(['Name'], dtype='object')\n",
      "  fina3=ror.rolling(3).mean()\n"
     ]
    }
   ],
   "source": [
    "fina3=ror.rolling(3).mean()   "
   ]
  },
  {
   "cell_type": "code",
   "execution_count": 68,
   "metadata": {},
   "outputs": [
    {
     "data": {
      "text/html": [
       "<div>\n",
       "<style scoped>\n",
       "    .dataframe tbody tr th:only-of-type {\n",
       "        vertical-align: middle;\n",
       "    }\n",
       "\n",
       "    .dataframe tbody tr th {\n",
       "        vertical-align: top;\n",
       "    }\n",
       "\n",
       "    .dataframe thead th {\n",
       "        text-align: right;\n",
       "    }\n",
       "</style>\n",
       "<table border=\"1\" class=\"dataframe\">\n",
       "  <thead>\n",
       "    <tr style=\"text-align: right;\">\n",
       "      <th></th>\n",
       "      <th>총자산</th>\n",
       "      <th>총부채</th>\n",
       "      <th>총자본</th>\n",
       "      <th>매출액</th>\n",
       "      <th>영업이익</th>\n",
       "      <th>당기순이익</th>\n",
       "      <th>현금흐름</th>\n",
       "      <th>EPS</th>\n",
       "      <th>BPS</th>\n",
       "      <th>SPS</th>\n",
       "      <th>CFPS</th>\n",
       "    </tr>\n",
       "    <tr>\n",
       "      <th>회계연도</th>\n",
       "      <th></th>\n",
       "      <th></th>\n",
       "      <th></th>\n",
       "      <th></th>\n",
       "      <th></th>\n",
       "      <th></th>\n",
       "      <th></th>\n",
       "      <th></th>\n",
       "      <th></th>\n",
       "      <th></th>\n",
       "      <th></th>\n",
       "    </tr>\n",
       "  </thead>\n",
       "  <tbody>\n",
       "    <tr>\n",
       "      <th>2007</th>\n",
       "      <td>NaN</td>\n",
       "      <td>NaN</td>\n",
       "      <td>NaN</td>\n",
       "      <td>NaN</td>\n",
       "      <td>NaN</td>\n",
       "      <td>NaN</td>\n",
       "      <td>NaN</td>\n",
       "      <td>NaN</td>\n",
       "      <td>NaN</td>\n",
       "      <td>NaN</td>\n",
       "      <td>NaN</td>\n",
       "    </tr>\n",
       "    <tr>\n",
       "      <th>2008</th>\n",
       "      <td>NaN</td>\n",
       "      <td>NaN</td>\n",
       "      <td>NaN</td>\n",
       "      <td>NaN</td>\n",
       "      <td>NaN</td>\n",
       "      <td>NaN</td>\n",
       "      <td>NaN</td>\n",
       "      <td>NaN</td>\n",
       "      <td>NaN</td>\n",
       "      <td>NaN</td>\n",
       "      <td>NaN</td>\n",
       "    </tr>\n",
       "    <tr>\n",
       "      <th>2009</th>\n",
       "      <td>NaN</td>\n",
       "      <td>NaN</td>\n",
       "      <td>NaN</td>\n",
       "      <td>NaN</td>\n",
       "      <td>NaN</td>\n",
       "      <td>NaN</td>\n",
       "      <td>NaN</td>\n",
       "      <td>NaN</td>\n",
       "      <td>NaN</td>\n",
       "      <td>NaN</td>\n",
       "      <td>NaN</td>\n",
       "    </tr>\n",
       "    <tr>\n",
       "      <th>2010</th>\n",
       "      <td>0.130043</td>\n",
       "      <td>0.068266</td>\n",
       "      <td>0.169419</td>\n",
       "      <td>0.163171</td>\n",
       "      <td>0.335430</td>\n",
       "      <td>0.351592</td>\n",
       "      <td>0.206715</td>\n",
       "      <td>0.375806</td>\n",
       "      <td>0.154179</td>\n",
       "      <td>0.163171</td>\n",
       "      <td>0.206715</td>\n",
       "    </tr>\n",
       "    <tr>\n",
       "      <th>2011</th>\n",
       "      <td>0.140867</td>\n",
       "      <td>0.094756</td>\n",
       "      <td>0.172653</td>\n",
       "      <td>0.108423</td>\n",
       "      <td>0.425108</td>\n",
       "      <td>0.387826</td>\n",
       "      <td>0.210260</td>\n",
       "      <td>0.409934</td>\n",
       "      <td>0.160451</td>\n",
       "      <td>0.108423</td>\n",
       "      <td>0.210260</td>\n",
       "    </tr>\n",
       "  </tbody>\n",
       "</table>\n",
       "</div>"
      ],
      "text/plain": [
       "           총자산       총부채       총자본       매출액      영업이익     당기순이익      현금흐름  \\\n",
       "회계연도                                                                         \n",
       "2007       NaN       NaN       NaN       NaN       NaN       NaN       NaN   \n",
       "2008       NaN       NaN       NaN       NaN       NaN       NaN       NaN   \n",
       "2009       NaN       NaN       NaN       NaN       NaN       NaN       NaN   \n",
       "2010  0.130043  0.068266  0.169419  0.163171  0.335430  0.351592  0.206715   \n",
       "2011  0.140867  0.094756  0.172653  0.108423  0.425108  0.387826  0.210260   \n",
       "\n",
       "           EPS       BPS       SPS      CFPS  \n",
       "회계연도                                          \n",
       "2007       NaN       NaN       NaN       NaN  \n",
       "2008       NaN       NaN       NaN       NaN  \n",
       "2009       NaN       NaN       NaN       NaN  \n",
       "2010  0.375806  0.154179  0.163171  0.206715  \n",
       "2011  0.409934  0.160451  0.108423  0.210260  "
      ]
     },
     "execution_count": 68,
     "metadata": {},
     "output_type": "execute_result"
    }
   ],
   "source": [
    "fina3.head()"
   ]
  },
  {
   "cell_type": "code",
   "execution_count": 72,
   "metadata": {
    "scrolled": false
   },
   "outputs": [
    {
     "name": "stderr",
     "output_type": "stream",
     "text": [
      "C:\\Users\\jwkim\\AppData\\Local\\Temp\\ipykernel_22204\\2074209987.py:3: FutureWarning: Dropping of nuisance columns in rolling operations is deprecated; in a future version this will raise TypeError. Select only valid columns before calling the operation. Dropped columns were Index(['Name'], dtype='object')\n",
      "  fina=ror.rolling(3).mean()     #  3년 평균\n"
     ]
    },
    {
     "data": {
      "text/plain": [
       "<AxesSubplot:xlabel='Name'>"
      ]
     },
     "execution_count": 72,
     "metadata": {},
     "output_type": "execute_result"
    },
    {
     "data": {
      "image/png": "[encoded data removed]",
      "text/plain": [
       "<Figure size 576x396 with 1 Axes>"
      ]
     },
     "metadata": {},
     "output_type": "display_data"
    }
   ],
   "source": [
    "# 3년 평균 / 3년 추세\n",
    "\n",
    "fina=ror.rolling(3).mean()     #  3년 평균\n",
    "name=find_ts['Name']\n",
    "rorm = pd.concat([name,fina],axis=1)\n",
    "rorm=rorm[rorm.index==2022]   # 지정한 연도만 추출\n",
    "\n",
    "#  조건 추출 \n",
    "\n",
    "ra=rorm.query('매출액>0.2 & 영업이익>0.1')[['Name','영업이익','매출액']]  \n",
    "ra=ra.sort_values(ascending=False,by ='영업이익')[:10]\n",
    "\n",
    "raa=ra.set_index('Name')\n",
    "raa[['영업이익']].plot.bar()\n",
    "\n",
    "\n"
   ]
  },
  {
   "cell_type": "code",
   "execution_count": 76,
   "metadata": {},
   "outputs": [
    {
     "data": {
      "text/plain": [
       "<AxesSubplot:xlabel='Name'>"
      ]
     },
     "execution_count": 76,
     "metadata": {},
     "output_type": "execute_result"
    },
    {
     "data": {
      "image/png": "[encoded data removed]",
      "text/plain": [
       "<Figure size 576x396 with 1 Axes>"
      ]
     },
     "metadata": {},
     "output_type": "display_data"
    }
   ],
   "source": [
    "# 재무비율 산정 :  특정 연도 부채비율 \n",
    "\n",
    "find_ts ['부채비율']=find_ts ['총부채']/find_ts ['총자본']*100\n",
    "\n",
    "find_2022= find_ts [(find_ts.index ==2022)]\n",
    "\n",
    "#  랭킹 상위 20위  막대그래프로 그리기\n",
    "\n",
    "dratio = find_2022.sort_values(ascending=True, by='부채비율')[:20]   \n",
    "\n",
    "debt=dratio.set_index('Name')   # 인덱스 변경 \n",
    "\n",
    "debt['부채비율'].plot.bar()\n"
   ]
  },
  {
   "cell_type": "code",
   "execution_count": 79,
   "metadata": {},
   "outputs": [
    {
     "data": {
      "text/plain": [
       "<AxesSubplot:xlabel='Name'>"
      ]
     },
     "execution_count": 79,
     "metadata": {},
     "output_type": "execute_result"
    },
    {
     "data": {
      "image/png": "[encoded data removed]",
      "text/plain": [
       "<Figure size 576x396 with 1 Axes>"
      ]
     },
     "metadata": {},
     "output_type": "display_data"
    }
   ],
   "source": [
    "# 재무비율 산정 : 특정연도 자기자본이익률(ROE)\n",
    "\n",
    "find_ts ['ROE']=find_ts ['당기순이익']/find_ts [\"총자본\"]*100\n",
    "\n",
    "find_2022= find_ts [(find_ts.index ==2022)]\n",
    "\n",
    "ratio = find_2022.sort_values(ascending=False, by='ROE')[:20]    # 랭킹 상위 10위  막대그래프로 그리기\n",
    "\n",
    "ROE=ratio.set_index('Name')   # 인덱스 변경 \n",
    "\n",
    "ROE['ROE'].plot.bar()"
   ]
  },
  {
   "cell_type": "code",
   "execution_count": 91,
   "metadata": {},
   "outputs": [
    {
     "data": {
      "text/plain": [
       "회계연도\n",
       "2022    15.68827\n",
       "Name: ROE, dtype: float64"
      ]
     },
     "execution_count": 91,
     "metadata": {},
     "output_type": "execute_result"
    }
   ],
   "source": [
    "# 삼성전자 ROE\n",
    "\n",
    "find_2022[find_2022.Name=='삼성전자']['ROE']\n",
    "\n"
   ]
  },
  {
   "cell_type": "code",
   "execution_count": null,
   "metadata": {},
   "outputs": [],
   "source": []
  },
  {
   "cell_type": "code",
   "execution_count": null,
   "metadata": {},
   "outputs": [],
   "source": []
  }
 ],
 "metadata": {
  "kernelspec": {
   "display_name": "Python 3 (ipykernel)",
   "language": "python",
   "name": "python3"
  },
  "language_info": {
   "codemirror_mode": {
    "name": "ipython",
    "version": 3
   },
   "file_extension": ".py",
   "mimetype": "text/x-python",
   "name": "python",
   "nbconvert_exporter": "python",
   "pygments_lexer": "ipython3",
   "version": "3.9.12"
  }
 },
 "nbformat": 4,
 "nbformat_minor": 4
}
