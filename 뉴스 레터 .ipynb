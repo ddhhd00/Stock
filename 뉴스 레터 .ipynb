{
  "nbformat": 4,
  "nbformat_minor": 0,
  "metadata": {
    "colab": {
      "provenance": []
    },
    "kernelspec": {
      "name": "python3",
      "display_name": "Python 3"
    },
    "language_info": {
      "name": "python"
    }
  },
  "cells": [
    {
      "cell_type": "markdown",
      "source": [
        "#종목관련 뉴스피드 제공"
      ],
      "metadata": {
        "id": "2iVvBsz-uTpy"
      }
    },
    {
      "cell_type": "code",
      "source": [
        "# 필요한 라이브러리 설치\n",
        "!pip install Flask requests beautifulsoup4\n"
      ],
      "metadata": {
        "colab": {
          "base_uri": "https://localhost:8080/"
        },
        "id": "pqrXAwz6uvMb",
        "outputId": "74a39968-ec38-4b72-a42e-e9bf86446b11"
      },
      "execution_count": null,
      "outputs": [
        {
          "output_type": "stream",
          "name": "stdout",
          "text": [
            "Requirement already satisfied: Flask in /usr/local/lib/python3.10/dist-packages (2.2.5)\n",
            "Requirement already satisfied: requests in /usr/local/lib/python3.10/dist-packages (2.31.0)\n",
            "Requirement already satisfied: beautifulsoup4 in /usr/local/lib/python3.10/dist-packages (4.11.2)\n",
            "Requirement already satisfied: Werkzeug>=2.2.2 in /usr/local/lib/python3.10/dist-packages (from Flask) (3.0.1)\n",
            "Requirement already satisfied: Jinja2>=3.0 in /usr/local/lib/python3.10/dist-packages (from Flask) (3.1.2)\n",
            "Requirement already satisfied: itsdangerous>=2.0 in /usr/local/lib/python3.10/dist-packages (from Flask) (2.1.2)\n",
            "Requirement already satisfied: click>=8.0 in /usr/local/lib/python3.10/dist-packages (from Flask) (8.1.7)\n",
            "Requirement already satisfied: charset-normalizer<4,>=2 in /usr/local/lib/python3.10/dist-packages (from requests) (3.3.2)\n",
            "Requirement already satisfied: idna<4,>=2.5 in /usr/local/lib/python3.10/dist-packages (from requests) (3.4)\n",
            "Requirement already satisfied: urllib3<3,>=1.21.1 in /usr/local/lib/python3.10/dist-packages (from requests) (2.0.7)\n",
            "Requirement already satisfied: certifi>=2017.4.17 in /usr/local/lib/python3.10/dist-packages (from requests) (2023.7.22)\n",
            "Requirement already satisfied: soupsieve>1.2 in /usr/local/lib/python3.10/dist-packages (from beautifulsoup4) (2.5)\n",
            "Requirement already satisfied: MarkupSafe>=2.0 in /usr/local/lib/python3.10/dist-packages (from Jinja2>=3.0->Flask) (2.1.3)\n"
          ]
        }
      ]
    },
    {
      "cell_type": "code",
      "execution_count": null,
      "metadata": {
        "colab": {
          "base_uri": "https://localhost:8080/"
        },
        "id": "4moz6z-oqsQ_",
        "outputId": "4c935f69-efc8-4760-e548-0134322aff79"
      },
      "outputs": [
        {
          "output_type": "stream",
          "name": "stdout",
          "text": [
            " * Serving Flask app '__main__'\n",
            " * Debug mode: on\n"
          ]
        },
        {
          "output_type": "stream",
          "name": "stderr",
          "text": [
            "INFO:werkzeug:\u001b[31m\u001b[1mWARNING: This is a development server. Do not use it in a production deployment. Use a production WSGI server instead.\u001b[0m\n",
            " * Running on http://127.0.0.1:5000\n",
            "INFO:werkzeug:\u001b[33mPress CTRL+C to quit\u001b[0m\n",
            "INFO:werkzeug: * Restarting with stat\n"
          ]
        }
      ],
      "source": [
        "#개발모드 사용경고(운영환경에서는 비활성화, 개발 서버 경고)\n",
        "from flask import Flask, render_template\n",
        "import requests\n",
        "from bs4 import BeautifulSoup\n",
        "\n",
        "app = Flask(__name__)\n",
        "\n",
        "# 네이버 뉴스 검색 URL 생성 함수\n",
        "def get_news_page_url(stock_symbol):\n",
        "    return f'https://finance.naver.com/item/news_news.nhn?code={stock_symbol}&page=1'\n",
        "\n",
        "# 네이버 뉴스 정보 가져오기 함수\n",
        "def get_news_info(url):\n",
        "    response = requests.get(url)\n",
        "    soup = BeautifulSoup(response.text, 'html.parser')\n",
        "\n",
        "    # 예시로 뉴스 제목과 출처를 추출\n",
        "    headlines = soup.select('.title')\n",
        "    sources = soup.select('.info')\n",
        "\n",
        "    news_info = []\n",
        "    for headline, source in zip(headlines, sources):\n",
        "        title = headline.get_text(strip=True)\n",
        "        source = source.get_text(strip=True)\n",
        "        news_info.append({'title': title, 'source': source})\n",
        "\n",
        "    return news_info\n",
        "\n",
        "# Flask 라우트\n",
        "@app.route('/stock_news/<stock_symbol>')\n",
        "def stock_news(stock_symbol):\n",
        "    url = get_news_page_url(stock_symbol)\n",
        "    news_info = get_news_info(url)\n",
        "    return render_template('stock_news.html', news_info=news_info)\n",
        "\n",
        "if __name__ == '__main__':\n",
        "    app.run(debug=True)\n"
      ]
    },
    {
      "cell_type": "markdown",
      "source": [
        "#TextRank로 크롤링한 주식뉴스기사 요약 모델"
      ],
      "metadata": {
        "id": "W5fdeG0Mxe1y"
      }
    },
    {
      "cell_type": "code",
      "source": [
        "!pip uninstall konlpy\n",
        "\n"
      ],
      "metadata": {
        "colab": {
          "base_uri": "https://localhost:8080/"
        },
        "id": "1dtWeOFbzhZM",
        "outputId": "9f458378-ec3a-4132-ae3a-7686cb760c33"
      },
      "execution_count": null,
      "outputs": [
        {
          "output_type": "stream",
          "name": "stdout",
          "text": [
            "Found existing installation: konlpy 0.6.0\n",
            "Uninstalling konlpy-0.6.0:\n",
            "  Would remove:\n",
            "    /usr/local/lib/python3.10/dist-packages/konlpy-0.6.0.dist-info/*\n",
            "    /usr/local/lib/python3.10/dist-packages/konlpy/*\n",
            "Proceed (Y/n)? y\n",
            "  Successfully uninstalled konlpy-0.6.0\n"
          ]
        }
      ]
    },
    {
      "cell_type": "code",
      "source": [
        "!pip install konlpy"
      ],
      "metadata": {
        "colab": {
          "base_uri": "https://localhost:8080/"
        },
        "id": "NRprOb4-22Y6",
        "outputId": "87f38924-b9e3-4a7c-a2b2-ef60640cf9e8"
      },
      "execution_count": null,
      "outputs": [
        {
          "output_type": "stream",
          "name": "stdout",
          "text": [
            "Requirement already satisfied: konlpy in /usr/local/lib/python3.10/dist-packages (0.6.0)\n",
            "Requirement already satisfied: JPype1>=0.7.0 in /usr/local/lib/python3.10/dist-packages (from konlpy) (1.4.1)\n",
            "Requirement already satisfied: lxml>=4.1.0 in /usr/local/lib/python3.10/dist-packages (from konlpy) (4.9.3)\n",
            "Requirement already satisfied: numpy>=1.6 in /usr/local/lib/python3.10/dist-packages (from konlpy) (1.23.5)\n",
            "Requirement already satisfied: packaging in /usr/local/lib/python3.10/dist-packages (from JPype1>=0.7.0->konlpy) (23.2)\n"
          ]
        }
      ]
    },
    {
      "cell_type": "code",
      "source": [
        "# MeCab 설치\n",
        "!apt-get install -y openjdk-8-jdk\n",
        "!bash <(curl -s https://raw.githubusercontent.com/konlpy/konlpy/master/scripts/mecab.sh)\n",
        "\n",
        "# mecab-python 설치\n",
        "!pip install mecab-python\n"
      ],
      "metadata": {
        "colab": {
          "base_uri": "https://localhost:8080/"
        },
        "id": "cu_XpGVf36nG",
        "outputId": "c7293518-cb1d-4c17-e447-236318349ea3"
      },
      "execution_count": null,
      "outputs": [
        {
          "output_type": "stream",
          "name": "stdout",
          "text": [
            "Reading package lists... Done\n",
            "Building dependency tree... Done\n",
            "Reading state information... Done\n",
            "openjdk-8-jdk is already the newest version (8u382-ga-1~22.04.1).\n",
            "0 upgraded, 0 newly installed, 0 to remove and 6 not upgraded.\n",
            "mecab-ko is already installed\n",
            "mecab-ko-dic is already installed\n",
            "mecab-python is already installed\n",
            "Done.\n",
            "Requirement already satisfied: mecab-python in /usr/local/lib/python3.10/dist-packages (1.0.0)\n",
            "Requirement already satisfied: mecab-python3 in /usr/local/lib/python3.10/dist-packages (from mecab-python) (1.0.8)\n"
          ]
        }
      ]
    },
    {
      "cell_type": "code",
      "source": [
        "from konlpy.tag import Mecab\n",
        "\n",
        "mecab = Mecab('/usr/local/lib/mecab/dic/mecab-ko-dic')\n",
        "result = mecab.pos('주식 코드를 입력하세요: 005306')\n",
        "print(result)\n"
      ],
      "metadata": {
        "colab": {
          "base_uri": "https://localhost:8080/"
        },
        "id": "mQI5z5ZG3q0c",
        "outputId": "8a8aba3d-3719-477a-d128-df0c48fc443e"
      },
      "execution_count": null,
      "outputs": [
        {
          "output_type": "stream",
          "name": "stdout",
          "text": [
            "[('주식', 'NNG'), ('코드', 'NNG'), ('를', 'JKO'), ('입력', 'NNG'), ('하', 'XSV'), ('세요', 'EP+EF'), (':', 'SC'), ('005306', 'SN')]\n"
          ]
        }
      ]
    },
    {
      "cell_type": "code",
      "source": [
        "import requests\n",
        "from bs4 import BeautifulSoup\n",
        "from konlpy.tag import Mecab\n",
        "from sklearn.feature_extraction.text import TfidfVectorizer\n",
        "from sklearn.metrics.pairwise import cosine_similarity\n",
        "import networkx as nx"
      ],
      "metadata": {
        "id": "t--iso3KzKlG"
      },
      "execution_count": null,
      "outputs": []
    },
    {
      "cell_type": "code",
      "source": [
        "!pip install requests beautifulsoup4 konlpy scikit-learn"
      ],
      "metadata": {
        "colab": {
          "base_uri": "https://localhost:8080/"
        },
        "id": "cEvaAH2W0jM-",
        "outputId": "5b9390d8-e96a-4fe0-d40a-9ae7a774d0b5"
      },
      "execution_count": null,
      "outputs": [
        {
          "output_type": "stream",
          "name": "stdout",
          "text": [
            "Requirement already satisfied: requests in /usr/local/lib/python3.10/dist-packages (2.31.0)\n",
            "Requirement already satisfied: beautifulsoup4 in /usr/local/lib/python3.10/dist-packages (4.11.2)\n",
            "Requirement already satisfied: konlpy in /usr/local/lib/python3.10/dist-packages (0.6.0)\n",
            "Requirement already satisfied: scikit-learn in /usr/local/lib/python3.10/dist-packages (1.2.2)\n",
            "Requirement already satisfied: charset-normalizer<4,>=2 in /usr/local/lib/python3.10/dist-packages (from requests) (3.3.2)\n",
            "Requirement already satisfied: idna<4,>=2.5 in /usr/local/lib/python3.10/dist-packages (from requests) (3.4)\n",
            "Requirement already satisfied: urllib3<3,>=1.21.1 in /usr/local/lib/python3.10/dist-packages (from requests) (2.0.7)\n",
            "Requirement already satisfied: certifi>=2017.4.17 in /usr/local/lib/python3.10/dist-packages (from requests) (2023.7.22)\n",
            "Requirement already satisfied: soupsieve>1.2 in /usr/local/lib/python3.10/dist-packages (from beautifulsoup4) (2.5)\n",
            "Requirement already satisfied: JPype1>=0.7.0 in /usr/local/lib/python3.10/dist-packages (from konlpy) (1.4.1)\n",
            "Requirement already satisfied: lxml>=4.1.0 in /usr/local/lib/python3.10/dist-packages (from konlpy) (4.9.3)\n",
            "Requirement already satisfied: numpy>=1.6 in /usr/local/lib/python3.10/dist-packages (from konlpy) (1.23.5)\n",
            "Requirement already satisfied: scipy>=1.3.2 in /usr/local/lib/python3.10/dist-packages (from scikit-learn) (1.11.3)\n",
            "Requirement already satisfied: joblib>=1.1.1 in /usr/local/lib/python3.10/dist-packages (from scikit-learn) (1.3.2)\n",
            "Requirement already satisfied: threadpoolctl>=2.0.0 in /usr/local/lib/python3.10/dist-packages (from scikit-learn) (3.2.0)\n",
            "Requirement already satisfied: packaging in /usr/local/lib/python3.10/dist-packages (from JPype1>=0.7.0->konlpy) (23.2)\n"
          ]
        }
      ]
    },
    {
      "cell_type": "code",
      "source": [
        "# Install MeCab\n",
        "!apt-get install -y curl\n",
        "!bash <(curl -s https://raw.githubusercontent.com/konlpy/konlpy/master/scripts/mecab.sh)\n",
        "\n",
        "# Install mecab-python\n",
        "!pip install mecab-python\n",
        "\n",
        "# Restart the runtime (kernel) after installation\n"
      ],
      "metadata": {
        "colab": {
          "base_uri": "https://localhost:8080/"
        },
        "id": "ecQNVLlY02Uv",
        "outputId": "9c01163a-ba7b-49a3-8a68-0b0648b64a16"
      },
      "execution_count": null,
      "outputs": [
        {
          "output_type": "stream",
          "name": "stdout",
          "text": [
            "Reading package lists... Done\n",
            "Building dependency tree... Done\n",
            "Reading state information... Done\n",
            "curl is already the newest version (7.81.0-1ubuntu1.14).\n",
            "0 upgraded, 0 newly installed, 0 to remove and 6 not upgraded.\n",
            "mecab-ko is already installed\n",
            "mecab-ko-dic is already installed\n",
            "mecab-python is already installed\n",
            "Done.\n",
            "Requirement already satisfied: mecab-python in /usr/local/lib/python3.10/dist-packages (1.0.0)\n",
            "Requirement already satisfied: mecab-python3 in /usr/local/lib/python3.10/dist-packages (from mecab-python) (1.0.8)\n"
          ]
        }
      ]
    },
    {
      "cell_type": "code",
      "source": [
        "!sudo apt-get install curl\n",
        "!sudo apt-get install -y mecab libmecab-dev mecab-ipadic mecab-ipadic-utf8\n"
      ],
      "metadata": {
        "colab": {
          "base_uri": "https://localhost:8080/"
        },
        "id": "y0vqQB3n2IRn",
        "outputId": "d06f56ae-9b0d-41de-9552-bc06f03ae6d0"
      },
      "execution_count": null,
      "outputs": [
        {
          "output_type": "stream",
          "name": "stdout",
          "text": [
            "Reading package lists... Done\n",
            "Building dependency tree... Done\n",
            "Reading state information... Done\n",
            "curl is already the newest version (7.81.0-1ubuntu1.14).\n",
            "0 upgraded, 0 newly installed, 0 to remove and 6 not upgraded.\n",
            "Reading package lists... Done\n",
            "Building dependency tree... Done\n",
            "Reading state information... Done\n",
            "libmecab-dev is already the newest version (0.996-14build9).\n",
            "mecab-ipadic is already the newest version (2.7.0-20070801+main-3).\n",
            "mecab-ipadic-utf8 is already the newest version (2.7.0-20070801+main-3).\n",
            "mecab is already the newest version (0.996-14build9).\n",
            "0 upgraded, 0 newly installed, 0 to remove and 6 not upgraded.\n"
          ]
        }
      ]
    },
    {
      "cell_type": "code",
      "source": [
        "!pip install mecab-python\n"
      ],
      "metadata": {
        "colab": {
          "base_uri": "https://localhost:8080/"
        },
        "id": "CXCchsTf2XSc",
        "outputId": "8bb2bda0-de1c-45d1-9609-e408ba1db834"
      },
      "execution_count": null,
      "outputs": [
        {
          "output_type": "stream",
          "name": "stdout",
          "text": [
            "Requirement already satisfied: mecab-python in /usr/local/lib/python3.10/dist-packages (1.0.0)\n",
            "Requirement already satisfied: mecab-python3 in /usr/local/lib/python3.10/dist-packages (from mecab-python) (1.0.8)\n"
          ]
        }
      ]
    },
    {
      "cell_type": "code",
      "source": [
        "\n",
        "\n",
        "def crawl_stock_news(stock_code):\n",
        "    url = f'https://finance.naver.com/item/news_news.nhn?code={stock_code}&page=1&sm=title_entity_id.basic&clusterId='\n",
        "\n",
        "    # Send an HTTP request\n",
        "    response = requests.get(url)\n",
        "    soup = BeautifulSoup(response.text, 'html.parser')\n",
        "\n",
        "    # Extract news elements\n",
        "    news_elements = soup.select('.title')\n",
        "\n",
        "    # Extract news text and links\n",
        "    news_texts = []\n",
        "    for element in news_elements:\n",
        "        try:\n",
        "            link = element.a['href']\n",
        "            news_text = element.a.get_text(strip=True)\n",
        "            news_texts.append({'text': news_text, 'link': link})\n",
        "        except (KeyError, TypeError):\n",
        "            # Handle cases where the 'href' attribute is not present\n",
        "            pass\n",
        "\n",
        "    return news_texts\n",
        "\n",
        "def summarize_news(news_texts):\n",
        "    # Extract text from news_texts\n",
        "    documents = [news['text'] for news in news_texts]\n",
        "\n",
        "    # Tokenize and vectorize the documents\n",
        "    mecab = Mecab()\n",
        "    vectorizer = TfidfVectorizer(tokenizer=mecab.morphs, stop_words=['은', '는', '이', '가', '을', '를'])\n",
        "    X = vectorizer.fit_transform(documents)\n",
        "\n",
        "    # Calculate cosine similarity matrix\n",
        "    similarity_matrix = cosine_similarity(X, X)\n",
        "\n",
        "    # TextRank algorithm\n",
        "    scores = similarity_matrix.sum(axis=1)\n",
        "    ranked_sentences = [(score, sentence) for score, sentence in zip(scores, documents)]\n",
        "    ranked_sentences.sort(reverse=True)\n",
        "\n",
        "    # Select top sentences for summary\n",
        "    num_sentences = min(3, len(ranked_sentences))\n",
        "    summary = [sentence for _, sentence in ranked_sentences[:num_sentences]]\n",
        "\n",
        "    return summary\n",
        "\n",
        "def main():\n",
        "    # 주식 코드를 입력받아 해당 주식의 최신 뉴스를 크롤링\n",
        "    stock_code = input(\"주식 코드를 입력하세요: \")\n",
        "    news_texts = crawl_stock_news(stock_code)\n",
        "\n",
        "    # TextRank로 요약하여 출력\n",
        "    summary = summarize_news(news_texts)\n",
        "    print(\"\\n\".join(summary))\n",
        "\n",
        "if __name__ == \"__main__\":\n",
        "    main()\n",
        "#뉴스헤드라인 출력"
      ],
      "metadata": {
        "colab": {
          "base_uri": "https://localhost:8080/"
        },
        "id": "guXDHKIMyGfi",
        "outputId": "c6f5f78d-bb6d-4443-94fd-e584ebb9e459"
      },
      "execution_count": null,
      "outputs": [
        {
          "output_type": "stream",
          "name": "stdout",
          "text": [
            "주식 코드를 입력하세요: 005930\n",
            "삼성 비스포크 가전, '2023 인간공학디자인상' 수상\n",
            "삼성전자, 포터블 SSD 'T5 EVO' 출시…\"업계 최대 8TB 용...\n",
            "삼성 비스포크 가전, 인간공학디자인상 수상\n"
          ]
        },
        {
          "output_type": "stream",
          "name": "stderr",
          "text": [
            "/usr/local/lib/python3.10/dist-packages/sklearn/feature_extraction/text.py:528: UserWarning: The parameter 'token_pattern' will not be used since 'tokenizer' is not None'\n",
            "  warnings.warn(\n"
          ]
        }
      ]
    },
    {
      "cell_type": "markdown",
      "source": [
        "#각 종목에 대한 주식코드 보여주는 방법"
      ],
      "metadata": {
        "id": "1lFzYKYE1EwX"
      }
    },
    {
      "cell_type": "code",
      "source": [
        "!pip install requests\n"
      ],
      "metadata": {
        "colab": {
          "base_uri": "https://localhost:8080/"
        },
        "id": "M7y-btqF5Isj",
        "outputId": "2406e71f-7a72-446a-da35-35ea0197e6f2"
      },
      "execution_count": null,
      "outputs": [
        {
          "output_type": "stream",
          "name": "stdout",
          "text": [
            "Requirement already satisfied: requests in /usr/local/lib/python3.10/dist-packages (2.31.0)\n",
            "Requirement already satisfied: charset-normalizer<4,>=2 in /usr/local/lib/python3.10/dist-packages (from requests) (3.3.2)\n",
            "Requirement already satisfied: idna<4,>=2.5 in /usr/local/lib/python3.10/dist-packages (from requests) (3.4)\n",
            "Requirement already satisfied: urllib3<3,>=1.21.1 in /usr/local/lib/python3.10/dist-packages (from requests) (2.0.7)\n",
            "Requirement already satisfied: certifi>=2017.4.17 in /usr/local/lib/python3.10/dist-packages (from requests) (2023.7.22)\n"
          ]
        }
      ]
    },
    {
      "cell_type": "code",
      "source": [
        "#api키 : 'Y5bb740c89b964610652eccad1f7de49b6dc0d730'"
      ],
      "metadata": {
        "id": "CU6fgg_E8UXa"
      },
      "execution_count": null,
      "outputs": []
    },
    {
      "cell_type": "code",
      "source": [
        "import requests\n",
        "from bs4 import BeautifulSoup\n",
        "\n",
        "def get_stock_codes(api_key):\n",
        "    url = f'https://opendart.fss.or.kr/api/corpCode.xml?crtfc_key={api_key}'\n",
        "\n",
        "    # API 호출\n",
        "    response = requests.get(url)\n",
        "    if response.status_code != 200:\n",
        "        print(f\"Failed to fetch data. Status code: {response.status_code}\")\n",
        "        return []\n",
        "\n",
        "    # XML 파싱\n",
        "    xml_data = response.text\n",
        "    soup = BeautifulSoup(xml_data, 'html.parser')\n",
        "\n",
        "    # Extract corp_name and stock_code\n",
        "    corp_data = []\n",
        "    rows = soup.find_all('list')\n",
        "    for row in rows:\n",
        "        corp_name = row.find('corp_name').text\n",
        "        stock_code = row.find('stock_code').text\n",
        "        corp_data.append({corp_name: stock_code})\n",
        "\n",
        "    return corp_data\n",
        "\n",
        "def find_stock_code(stock_name, corp_data):\n",
        "    for data in corp_data:\n",
        "        for corp_name, stock_code in data.items():\n",
        "            if stock_name in corp_name:\n",
        "                return stock_code\n",
        "    return None\n",
        "\n",
        "# API 키를 여기에 입력\n",
        "api_key = 'Y5bb740c89b964610652eccad1f7de49b6dc0d730'\n",
        "\n",
        "# 기업 코드 목록을 출력\n",
        "corp_data = get_stock_codes(api_key)\n",
        "for data in corp_data:\n",
        "    for corp_name, stock_code in data.items():\n",
        "        print(f'{corp_name}: {stock_code}')\n",
        "\n",
        "# 종목명을 입력받아 종목 코드 찾기\n",
        "user_stock_name = input(\"원하는 주식 종목을 입력하세요: \")\n",
        "\n",
        "# 종목명이 포함되어 있는 기업명이 있는지 확인\n",
        "stock_code = find_stock_code(user_stock_name, corp_data)\n",
        "\n",
        "if stock_code:\n",
        "    print(f'{user_stock_name}의 종목 코드는 {stock_code}입니다.')\n",
        "else:\n",
        "    print(f'{user_stock_name}에 대한 종목 코드를 찾을 수 없습니다.')\n"
      ],
      "metadata": {
        "colab": {
          "base_uri": "https://localhost:8080/"
        },
        "id": "EvlvDeeAAirZ",
        "outputId": "c40fbed3-fb3a-4dde-b5d0-0b2f83934ade"
      },
      "execution_count": null,
      "outputs": [
        {
          "output_type": "stream",
          "name": "stdout",
          "text": [
            "원하는 주식 종목을 입력하세요: 삼성전자\n",
            "삼성전자에 대한 종목 코드를 찾을 수 없습니다.\n"
          ]
        }
      ]
    },
    {
      "cell_type": "code",
      "source": [
        "import requests\n",
        "\n",
        "# API 키를 여기에 입력\n",
        "api_key = '5bb740c89b964610652eccad1f7de49b6dc0d730'\n",
        "\n",
        "url = f'https://opendart.fss.or.kr/api/corpCode.xml?crtfc_key={api_key}'\n",
        "\n",
        "# API 호출\n",
        "response = requests.get(url)\n",
        "if response.status_code != 200:\n",
        "    print(f\"Failed to fetch data. Status code: {response.status_code}\")\n",
        "else:\n",
        "    print(response.text)\n",
        "print(corp_data);"
      ],
      "metadata": {
        "colab": {
          "base_uri": "https://localhost:8080/"
        },
        "id": "jnXNxrA1A_Nd",
        "outputId": "98843b47-fa14-45c1-ce44-d5f52313a8d8"
      },
      "execution_count": null,
      "outputs": [
        {
          "output_type": "stream",
          "name": "stderr",
          "text": [
            "IOPub data rate exceeded.\n",
            "The notebook server will temporarily stop sending output\n",
            "to the client in order to avoid crashing it.\n",
            "To change this limit, set the config variable\n",
            "`--NotebookApp.iopub_data_rate_limit`.\n",
            "\n",
            "Current values:\n",
            "NotebookApp.iopub_data_rate_limit=1000000.0 (bytes/sec)\n",
            "NotebookApp.rate_limit_window=3.0 (secs)\n",
            "\n"
          ]
        }
      ]
    },
    {
      "cell_type": "code",
      "source": [
        "import pandas as pd\n",
        "\n",
        "# 엑셀 파일에서 주식 종목과 종목 코드 읽어오기\n",
        "def read_stock_data_excel(file_path):\n",
        "    try:\n",
        "        df = pd.read_excel(file_path, dtype=str, engine='openpyxl')  # dtype을 문자열로 설정하여 숫자로 인식되는 것을 방지\n",
        "        stock_data = df.set_index('회사명')['종목코드'].to_dict()\n",
        "        return df, stock_data\n",
        "    except Exception as e:\n",
        "        print(f\"Error reading data from Excel file: {e}\")\n",
        "        return None, {}\n",
        "\n",
        "# 엑셀 파일 경로 설정\n",
        "excel_file_path = r\"/content/상장법인목록 .xlsx\"\n",
        "\n",
        "# 주식 종목과 종목 코드 출력\n",
        "stocks_excel_df, stocks_excel = read_stock_data_excel(excel_file_path)\n",
        "\n",
        "# DataFrame 출력\n",
        "print(stocks_excel_df)\n",
        "\n",
        "# 사용자에게 종목명 입력받기\n",
        "user_input_excel = input('원하는 주식 종목을 입력하세요: ')\n",
        "\n",
        "# 입력된 종목명에 대한 종목 코드 찾기\n",
        "if user_input_excel in stocks_excel:\n",
        "    print(f'{user_input_excel} 종목의 종목 코드는 {stocks_excel[user_input_excel]}입니다.')\n",
        "else:\n",
        "    print(f'{user_input_excel}에 대한 종목 코드를 찾을 수 없습니다.')\n"
      ],
      "metadata": {
        "colab": {
          "base_uri": "https://localhost:8080/"
        },
        "id": "7mMyPNe9B7Zw",
        "outputId": "6944ffa1-fd1d-49e9-f41d-35e28af3e8ae"
      },
      "execution_count": 1,
      "outputs": [
        {
          "output_type": "stream",
          "name": "stdout",
          "text": [
            "          회사명    종목코드                   업종  \\\n",
            "0      두산로보틱스  454910        특수 목적용 기계 제조업   \n",
            "1    STX그린로지스  465770               해상 운송업   \n",
            "2         넥스틸  092790            1차 철강 제조업   \n",
            "3    NICE평가정보  030190           기타 정보 서비스업   \n",
            "4        조선내화  462520     내화, 비내화 요업제품 제조업   \n",
            "..        ...     ...                  ...   \n",
            "832      유한양행  000100              의약품 제조업   \n",
            "833    CJ대한통운  000120            도로 화물 운송업   \n",
            "834        경방  000050               종합 소매업   \n",
            "835     유수홀딩스  000700  회사 본부 및 경영 컨설팅 서비스업   \n",
            "836  한진중공업홀딩스  003480    연료용 가스 제조 및 배관공급업   \n",
            "\n",
            "                                                  주요제품                  상장일  \\\n",
            "0                                                 협동로봇  2023-10-05 00:00:00   \n",
            "1                                          해상운송업 및 물류업  2023-09-15 00:00:00   \n",
            "2             OCTG Pipe, Line Pipe, Standard Pipe, 일반관  2023-08-21 00:00:00   \n",
            "3                                       개인 및 기업정보, 솔루션  2023-08-08 00:00:00   \n",
            "4                                              내화 요업제품  2023-07-28 00:00:00   \n",
            "..                                                 ...                  ...   \n",
            "832  의약품(삐콤씨, 안티푸라민, 렉라자, 로수바미브, 코푸시럽 등), 생활용품(유한락스...  1962-11-01 00:00:00   \n",
            "833  Contract Logistics, 포워딩, 항만하역, 해운, 택배국제특송, SCM...  1956-07-02 00:00:00   \n",
            "834          섬유류(면사,면혼방사,면직물,면혼방직물,화섬사,화섬직물) 제조,도매,수출입  1956-03-03 00:00:00   \n",
            "835                                               지주사업  1956-03-03 00:00:00   \n",
            "836                                               지주회사  1956-03-03 00:00:00   \n",
            "\n",
            "     결산월           대표자명                             홈페이지     지역  \n",
            "0    12월       류정훈, 박인원    http://www.doosanrobotics.com    경기도  \n",
            "1    12월            이우형  http://www.stxgreenlogis.co.kr/  부산광역시  \n",
            "2    12월            홍성만         http://www.nexteel.co.kr   경상북도  \n",
            "3    12월            신희부                              NaN  서울특별시  \n",
            "4    12월            이상암                              NaN   전라남도  \n",
            "..   ...            ...                              ...    ...  \n",
            "832  12월       대표이사 조욱제           http://www.yuhan.co.kr  서울특별시  \n",
            "833  12월  강신호,민영학(각자대표)       http://www.cjlogistics.com  서울특별시  \n",
            "834  12월         김준, 김담       http://www.kyungbang.co.kr  서울특별시  \n",
            "835  12월            송영규     http://www.eusu-holdings.com  서울특별시  \n",
            "836  12월       조남호, 조원국     http://www.hhic-holdings.com    경기도  \n",
            "\n",
            "[837 rows x 9 columns]\n",
            "원하는 주식 종목을 입력하세요: 삼성전자\n",
            "삼성전자 종목의 종목 코드는 005930입니다.\n"
          ]
        }
      ]
    },
    {
      "cell_type": "code",
      "source": [
        "# DataFrame 출력\n",
        "print(stocks_excel_d"
      ],
      "metadata": {
        "colab": {
          "base_uri": "https://localhost:8080/"
        },
        "id": "SOlqgrGVK1Fj",
        "outputId": "1f866795-ad86-43fb-f608-a2e55982a19d"
      },
      "execution_count": null,
      "outputs": [
        {
          "output_type": "stream",
          "name": "stdout",
          "text": [
            "None\n"
          ]
        }
      ]
    }
  ]
}